{
 "cells": [
  {
   "cell_type": "code",
   "execution_count": 167,
   "metadata": {},
   "outputs": [
    {
     "name": "stdout",
     "output_type": "stream",
     "text": [
      "Vecteurs de base du réseau direct : \n",
      "3.925932 0.000000 0.000000\n",
      "-1.962966 3.399957 0.000000\n",
      "0.000000 0.000000 6.637664\n",
      "Vecteurs de base du réseau réciproque : \n",
      "1.600431 0.924009 0.000000\n",
      "0.000000 1.848019 0.000000\n",
      "0.000000 0.000000 0.946596\n",
      "Type de maille : \n",
      "hexagonal\n",
      "Le maille est donc primitve P\n",
      "Système cristallin : \n",
      "trigonal\n",
      "Groupe ponctuel : \n",
      "-3m\n"
     ]
    }
   ],
   "source": [
    "from pymatgen.ext.matproj import MPRester\n",
    "from pymatgen.io.cif import CifWriter\n",
    "from pymatgen.symmetry.analyzer import SpacegroupAnalyzer\n",
    "from pymatgen.core.lattice import Lattice\n",
    "\n",
    "with MPRester(\"NrRTCZ9vfEUg8SJu\") as m:\n",
    "    structure = m.get_structure_by_material_id(\"mp-12908\")\n",
    "    w.write_file('ScAgSe2_mp-12908_symmetrized.cif')\n",
    "    \n",
    "sa = SpacegroupAnalyzer(structure)\n",
    "\n",
    "#Vecteurs de base du réseau direct\n",
    "Reseau = structure.lattice\n",
    "\n",
    "#Vecteurs de base du réseau réciproque\n",
    "Reseaur = structure.lattice.reciprocal_lattice\n",
    "\n",
    "#Type de maille\n",
    "tm = sa.get_lattice_type()\n",
    "\n",
    "#Système cristallin \n",
    "sc = sa.get_crystal_system()\n",
    "\n",
    "#Groupe ponctuel\n",
    "gp = sa.get_point_group_symbol()\n",
    "\n",
    "print('Vecteurs de base du réseau direct : ')\n",
    "print(Reseau)\n",
    "print('Vecteurs de base du réseau réciproque : ')\n",
    "print(Reseaur)\n",
    "print('Type de maille : ') \n",
    "print(tm)\n",
    "print('Le maille est donc primitve P')\n",
    "print('Système cristallin : ') \n",
    "print(sc)\n",
    "print('Groupe ponctuel : ')\n",
    "print(gp)        "
   ]
  },
  {
   "cell_type": "code",
   "execution_count": null,
   "metadata": {},
   "outputs": [],
   "source": []
  }
 ],
 "metadata": {
  "kernelspec": {
   "display_name": "Python 3",
   "language": "python",
   "name": "python3"
  },
  "language_info": {
   "codemirror_mode": {
    "name": "ipython",
    "version": 3
   },
   "file_extension": ".py",
   "mimetype": "text/x-python",
   "name": "python",
   "nbconvert_exporter": "python",
   "pygments_lexer": "ipython3",
   "version": "3.6.8"
  }
 },
 "nbformat": 4,
 "nbformat_minor": 2
}
